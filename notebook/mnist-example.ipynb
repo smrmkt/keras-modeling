{
 "cells": [
  {
   "cell_type": "code",
   "execution_count": 6,
   "metadata": {
    "collapsed": false
   },
   "outputs": [],
   "source": [
    "from keras.datasets import mnist, cifar10, imdb\n",
    "from keras.layers.core import Activation, Dropout, Dense, Flatten\n",
    "from keras.layers.convolutional import Convolution2D, MaxPooling2D\n",
    "from keras.models import Sequential\n",
    "from keras.optimizers import Adam\n",
    "from keras.utils import np_utils\n",
    "from keras.utils.visualize_util import model_to_dot, plot\n",
    "\n",
    "from IPython.display import SVG, display\n",
    "from sklearn import datasets, preprocessing\n",
    "import numpy as np"
   ]
  },
  {
   "cell_type": "code",
   "execution_count": 2,
   "metadata": {
    "collapsed": true
   },
   "outputs": [],
   "source": [
    "batch_size = 128\n",
    "nb_classes = 10\n",
    "nb_epoch = 12\n",
    "\n",
    "# input image dimensions\n",
    "img_rows, img_cols = 28, 28\n",
    "# number of convolutional filters to use\n",
    "nb_filters = 32\n",
    "# size of pooling area for max pooling\n",
    "nb_pool = 2\n",
    "# convolution kernel size\n",
    "nb_conv = 3"
   ]
  },
  {
   "cell_type": "code",
   "execution_count": 3,
   "metadata": {
    "collapsed": false
   },
   "outputs": [
    {
     "name": "stdout",
     "output_type": "stream",
     "text": [
      "('X_train shape:', (60000, 1, 28, 28))\n",
      "(60000, 'train samples')\n",
      "(10000, 'test samples')\n"
     ]
    }
   ],
   "source": [
    "#  the data, shuffled and split between train and test sets\n",
    "(X_train, y_train), (X_test, y_test) = mnist.load_data()\n",
    "\n",
    "X_train = X_train.reshape(X_train.shape[0], 1, img_rows, img_cols)\n",
    "X_test = X_test.reshape(X_test.shape[0], 1, img_rows, img_cols)\n",
    "X_train = X_train.astype('float32')\n",
    "X_test = X_test.astype('float32')\n",
    "X_train /= 255\n",
    "X_test /= 255\n",
    "print('X_train shape:', X_train.shape)\n",
    "print(X_train.shape[0], 'train samples')\n",
    "print(X_test.shape[0], 'test samples')\n",
    "\n",
    "# convert class vectors to binary class matrices\n",
    "Y_train = np_utils.to_categorical(y_train, nb_classes)\n",
    "Y_test = np_utils.to_categorical(y_test, nb_classes)"
   ]
  },
  {
   "cell_type": "code",
   "execution_count": 4,
   "metadata": {
    "collapsed": false
   },
   "outputs": [],
   "source": [
    "model = Sequential()\n",
    "model.add(Convolution2D(nb_filters, nb_conv, nb_conv,\n",
    "                        border_mode=\"valid\",\n",
    "                        input_shape=(1, img_rows, img_cols)))\n",
    "model.add(Activation(\"relu\"))\n",
    "model.add(Convolution2D(nb_filters, nb_conv, nb_conv))\n",
    "model.add(Activation(\"relu\"))\n",
    "model.add(MaxPooling2D(pool_size=(nb_pool, nb_pool)))\n",
    "model.add(Dropout(0.5))\n",
    "\n",
    "model.add(Flatten())\n",
    "model.add(Dense(128))\n",
    "model.add(Activation(\"relu\"))\n",
    "model.add(Dropout(0.5))\n",
    "model.add(Dense(nb_classes))\n",
    "model.add(Activation(\"softmax\"))"
   ]
  },
  {
   "cell_type": "code",
   "execution_count": 5,
   "metadata": {
    "collapsed": false
   },
   "outputs": [
    {
     "data": {
      "image/svg+xml": [
       "<svg height=\"1025pt\" viewBox=\"0.00 0.00 397.00 1025.00\" width=\"397pt\" xmlns=\"http://www.w3.org/2000/svg\" xmlns:xlink=\"http://www.w3.org/1999/xlink\">\n",
       "<g class=\"graph\" id=\"graph0\" transform=\"scale(1 1) rotate(0) translate(4 1021)\">\n",
       "<title>G</title>\n",
       "<polygon fill=\"white\" points=\"-4,4 -4,-1021 392.997,-1021 392.997,4 -4,4\" stroke=\"none\"/>\n",
       "<!-- 4593923280 -->\n",
       "<g class=\"node\" id=\"node1\"><title>4593923280</title>\n",
       "<polygon fill=\"none\" points=\"0,-972.5 0,-1016.5 388.997,-1016.5 388.997,-972.5 0,-972.5\" stroke=\"black\"/>\n",
       "<text font-family=\"Times,serif\" font-size=\"14.00\" text-anchor=\"middle\" x=\"110.84\" y=\"-990.3\">convolution2d_input_1 (InputLayer)</text>\n",
       "<polyline fill=\"none\" points=\"221.68,-972.5 221.68,-1016.5 \" stroke=\"black\"/>\n",
       "<text font-family=\"Times,serif\" font-size=\"14.00\" text-anchor=\"middle\" x=\"249.514\" y=\"-1001.3\">input:</text>\n",
       "<polyline fill=\"none\" points=\"221.68,-994.5 277.349,-994.5 \" stroke=\"black\"/>\n",
       "<text font-family=\"Times,serif\" font-size=\"14.00\" text-anchor=\"middle\" x=\"249.514\" y=\"-979.3\">output:</text>\n",
       "<polyline fill=\"none\" points=\"277.349,-972.5 277.349,-1016.5 \" stroke=\"black\"/>\n",
       "<text font-family=\"Times,serif\" font-size=\"14.00\" text-anchor=\"middle\" x=\"333.173\" y=\"-1001.3\">(None, 1, 28, 28)</text>\n",
       "<polyline fill=\"none\" points=\"277.349,-994.5 388.997,-994.5 \" stroke=\"black\"/>\n",
       "<text font-family=\"Times,serif\" font-size=\"14.00\" text-anchor=\"middle\" x=\"333.173\" y=\"-979.3\">(None, 1, 28, 28)</text>\n",
       "</g>\n",
       "<!-- 4593922896 -->\n",
       "<g class=\"node\" id=\"node2\"><title>4593922896</title>\n",
       "<polygon fill=\"none\" points=\"1.92773,-891.5 1.92773,-935.5 387.069,-935.5 387.069,-891.5 1.92773,-891.5\" stroke=\"black\"/>\n",
       "<text font-family=\"Times,serif\" font-size=\"14.00\" text-anchor=\"middle\" x=\"107.34\" y=\"-909.3\">convolution2d_1 (Convolution2D)</text>\n",
       "<polyline fill=\"none\" points=\"212.752,-891.5 212.752,-935.5 \" stroke=\"black\"/>\n",
       "<text font-family=\"Times,serif\" font-size=\"14.00\" text-anchor=\"middle\" x=\"240.586\" y=\"-920.3\">input:</text>\n",
       "<polyline fill=\"none\" points=\"212.752,-913.5 268.421,-913.5 \" stroke=\"black\"/>\n",
       "<text font-family=\"Times,serif\" font-size=\"14.00\" text-anchor=\"middle\" x=\"240.586\" y=\"-898.3\">output:</text>\n",
       "<polyline fill=\"none\" points=\"268.421,-891.5 268.421,-935.5 \" stroke=\"black\"/>\n",
       "<text font-family=\"Times,serif\" font-size=\"14.00\" text-anchor=\"middle\" x=\"327.745\" y=\"-920.3\">(None, 1, 28, 28)</text>\n",
       "<polyline fill=\"none\" points=\"268.421,-913.5 387.069,-913.5 \" stroke=\"black\"/>\n",
       "<text font-family=\"Times,serif\" font-size=\"14.00\" text-anchor=\"middle\" x=\"327.745\" y=\"-898.3\">(None, 32, 26, 26)</text>\n",
       "</g>\n",
       "<!-- 4593923280&#45;&gt;4593922896 -->\n",
       "<g class=\"edge\" id=\"edge1\"><title>4593923280-&gt;4593922896</title>\n",
       "<path d=\"M194.499,-972.329C194.499,-964.183 194.499,-954.699 194.499,-945.797\" fill=\"none\" stroke=\"black\"/>\n",
       "<polygon fill=\"black\" points=\"197.999,-945.729 194.499,-935.729 190.999,-945.729 197.999,-945.729\" stroke=\"black\"/>\n",
       "</g>\n",
       "<!-- 4547719696 -->\n",
       "<g class=\"node\" id=\"node3\"><title>4547719696</title>\n",
       "<polygon fill=\"none\" points=\"28.7793,-810.5 28.7793,-854.5 360.218,-854.5 360.218,-810.5 28.7793,-810.5\" stroke=\"black\"/>\n",
       "<text font-family=\"Times,serif\" font-size=\"14.00\" text-anchor=\"middle\" x=\"107.34\" y=\"-828.3\">activation_1 (Activation)</text>\n",
       "<polyline fill=\"none\" points=\"185.9,-810.5 185.9,-854.5 \" stroke=\"black\"/>\n",
       "<text font-family=\"Times,serif\" font-size=\"14.00\" text-anchor=\"middle\" x=\"213.735\" y=\"-839.3\">input:</text>\n",
       "<polyline fill=\"none\" points=\"185.9,-832.5 241.569,-832.5 \" stroke=\"black\"/>\n",
       "<text font-family=\"Times,serif\" font-size=\"14.00\" text-anchor=\"middle\" x=\"213.735\" y=\"-817.3\">output:</text>\n",
       "<polyline fill=\"none\" points=\"241.569,-810.5 241.569,-854.5 \" stroke=\"black\"/>\n",
       "<text font-family=\"Times,serif\" font-size=\"14.00\" text-anchor=\"middle\" x=\"300.894\" y=\"-839.3\">(None, 32, 26, 26)</text>\n",
       "<polyline fill=\"none\" points=\"241.569,-832.5 360.218,-832.5 \" stroke=\"black\"/>\n",
       "<text font-family=\"Times,serif\" font-size=\"14.00\" text-anchor=\"middle\" x=\"300.894\" y=\"-817.3\">(None, 32, 26, 26)</text>\n",
       "</g>\n",
       "<!-- 4593922896&#45;&gt;4547719696 -->\n",
       "<g class=\"edge\" id=\"edge2\"><title>4593922896-&gt;4547719696</title>\n",
       "<path d=\"M194.499,-891.329C194.499,-883.183 194.499,-873.699 194.499,-864.797\" fill=\"none\" stroke=\"black\"/>\n",
       "<polygon fill=\"black\" points=\"197.999,-864.729 194.499,-854.729 190.999,-864.729 197.999,-864.729\" stroke=\"black\"/>\n",
       "</g>\n",
       "<!-- 4526711504 -->\n",
       "<g class=\"node\" id=\"node4\"><title>4526711504</title>\n",
       "<polygon fill=\"none\" points=\"1.92773,-729.5 1.92773,-773.5 387.069,-773.5 387.069,-729.5 1.92773,-729.5\" stroke=\"black\"/>\n",
       "<text font-family=\"Times,serif\" font-size=\"14.00\" text-anchor=\"middle\" x=\"107.34\" y=\"-747.3\">convolution2d_2 (Convolution2D)</text>\n",
       "<polyline fill=\"none\" points=\"212.752,-729.5 212.752,-773.5 \" stroke=\"black\"/>\n",
       "<text font-family=\"Times,serif\" font-size=\"14.00\" text-anchor=\"middle\" x=\"240.586\" y=\"-758.3\">input:</text>\n",
       "<polyline fill=\"none\" points=\"212.752,-751.5 268.421,-751.5 \" stroke=\"black\"/>\n",
       "<text font-family=\"Times,serif\" font-size=\"14.00\" text-anchor=\"middle\" x=\"240.586\" y=\"-736.3\">output:</text>\n",
       "<polyline fill=\"none\" points=\"268.421,-729.5 268.421,-773.5 \" stroke=\"black\"/>\n",
       "<text font-family=\"Times,serif\" font-size=\"14.00\" text-anchor=\"middle\" x=\"327.745\" y=\"-758.3\">(None, 32, 26, 26)</text>\n",
       "<polyline fill=\"none\" points=\"268.421,-751.5 387.069,-751.5 \" stroke=\"black\"/>\n",
       "<text font-family=\"Times,serif\" font-size=\"14.00\" text-anchor=\"middle\" x=\"327.745\" y=\"-736.3\">(None, 32, 24, 24)</text>\n",
       "</g>\n",
       "<!-- 4547719696&#45;&gt;4526711504 -->\n",
       "<g class=\"edge\" id=\"edge3\"><title>4547719696-&gt;4526711504</title>\n",
       "<path d=\"M194.499,-810.329C194.499,-802.183 194.499,-792.699 194.499,-783.797\" fill=\"none\" stroke=\"black\"/>\n",
       "<polygon fill=\"black\" points=\"197.999,-783.729 194.499,-773.729 190.999,-783.729 197.999,-783.729\" stroke=\"black\"/>\n",
       "</g>\n",
       "<!-- 4526995216 -->\n",
       "<g class=\"node\" id=\"node5\"><title>4526995216</title>\n",
       "<polygon fill=\"none\" points=\"28.7793,-648.5 28.7793,-692.5 360.218,-692.5 360.218,-648.5 28.7793,-648.5\" stroke=\"black\"/>\n",
       "<text font-family=\"Times,serif\" font-size=\"14.00\" text-anchor=\"middle\" x=\"107.34\" y=\"-666.3\">activation_2 (Activation)</text>\n",
       "<polyline fill=\"none\" points=\"185.9,-648.5 185.9,-692.5 \" stroke=\"black\"/>\n",
       "<text font-family=\"Times,serif\" font-size=\"14.00\" text-anchor=\"middle\" x=\"213.735\" y=\"-677.3\">input:</text>\n",
       "<polyline fill=\"none\" points=\"185.9,-670.5 241.569,-670.5 \" stroke=\"black\"/>\n",
       "<text font-family=\"Times,serif\" font-size=\"14.00\" text-anchor=\"middle\" x=\"213.735\" y=\"-655.3\">output:</text>\n",
       "<polyline fill=\"none\" points=\"241.569,-648.5 241.569,-692.5 \" stroke=\"black\"/>\n",
       "<text font-family=\"Times,serif\" font-size=\"14.00\" text-anchor=\"middle\" x=\"300.894\" y=\"-677.3\">(None, 32, 24, 24)</text>\n",
       "<polyline fill=\"none\" points=\"241.569,-670.5 360.218,-670.5 \" stroke=\"black\"/>\n",
       "<text font-family=\"Times,serif\" font-size=\"14.00\" text-anchor=\"middle\" x=\"300.894\" y=\"-655.3\">(None, 32, 24, 24)</text>\n",
       "</g>\n",
       "<!-- 4526711504&#45;&gt;4526995216 -->\n",
       "<g class=\"edge\" id=\"edge4\"><title>4526711504-&gt;4526995216</title>\n",
       "<path d=\"M194.499,-729.329C194.499,-721.183 194.499,-711.699 194.499,-702.797\" fill=\"none\" stroke=\"black\"/>\n",
       "<polygon fill=\"black\" points=\"197.999,-702.729 194.499,-692.729 190.999,-702.729 197.999,-702.729\" stroke=\"black\"/>\n",
       "</g>\n",
       "<!-- 4526997328 -->\n",
       "<g class=\"node\" id=\"node6\"><title>4526997328</title>\n",
       "<polygon fill=\"none\" points=\"2.31738,-567.5 2.31738,-611.5 386.68,-611.5 386.68,-567.5 2.31738,-567.5\" stroke=\"black\"/>\n",
       "<text font-family=\"Times,serif\" font-size=\"14.00\" text-anchor=\"middle\" x=\"107.34\" y=\"-585.3\">maxpooling2d_1 (MaxPooling2D)</text>\n",
       "<polyline fill=\"none\" points=\"212.362,-567.5 212.362,-611.5 \" stroke=\"black\"/>\n",
       "<text font-family=\"Times,serif\" font-size=\"14.00\" text-anchor=\"middle\" x=\"240.197\" y=\"-596.3\">input:</text>\n",
       "<polyline fill=\"none\" points=\"212.362,-589.5 268.031,-589.5 \" stroke=\"black\"/>\n",
       "<text font-family=\"Times,serif\" font-size=\"14.00\" text-anchor=\"middle\" x=\"240.197\" y=\"-574.3\">output:</text>\n",
       "<polyline fill=\"none\" points=\"268.031,-567.5 268.031,-611.5 \" stroke=\"black\"/>\n",
       "<text font-family=\"Times,serif\" font-size=\"14.00\" text-anchor=\"middle\" x=\"327.355\" y=\"-596.3\">(None, 32, 24, 24)</text>\n",
       "<polyline fill=\"none\" points=\"268.031,-589.5 386.68,-589.5 \" stroke=\"black\"/>\n",
       "<text font-family=\"Times,serif\" font-size=\"14.00\" text-anchor=\"middle\" x=\"327.355\" y=\"-574.3\">(None, 32, 12, 12)</text>\n",
       "</g>\n",
       "<!-- 4526995216&#45;&gt;4526997328 -->\n",
       "<g class=\"edge\" id=\"edge5\"><title>4526995216-&gt;4526997328</title>\n",
       "<path d=\"M194.499,-648.329C194.499,-640.183 194.499,-630.699 194.499,-621.797\" fill=\"none\" stroke=\"black\"/>\n",
       "<polygon fill=\"black\" points=\"197.999,-621.729 194.499,-611.729 190.999,-621.729 197.999,-621.729\" stroke=\"black\"/>\n",
       "</g>\n",
       "<!-- 4527045584 -->\n",
       "<g class=\"node\" id=\"node7\"><title>4527045584</title>\n",
       "<polygon fill=\"none\" points=\"40.8208,-486.5 40.8208,-530.5 348.176,-530.5 348.176,-486.5 40.8208,-486.5\" stroke=\"black\"/>\n",
       "<text font-family=\"Times,serif\" font-size=\"14.00\" text-anchor=\"middle\" x=\"107.34\" y=\"-504.3\">dropout_1 (Dropout)</text>\n",
       "<polyline fill=\"none\" points=\"173.859,-486.5 173.859,-530.5 \" stroke=\"black\"/>\n",
       "<text font-family=\"Times,serif\" font-size=\"14.00\" text-anchor=\"middle\" x=\"201.693\" y=\"-515.3\">input:</text>\n",
       "<polyline fill=\"none\" points=\"173.859,-508.5 229.528,-508.5 \" stroke=\"black\"/>\n",
       "<text font-family=\"Times,serif\" font-size=\"14.00\" text-anchor=\"middle\" x=\"201.693\" y=\"-493.3\">output:</text>\n",
       "<polyline fill=\"none\" points=\"229.528,-486.5 229.528,-530.5 \" stroke=\"black\"/>\n",
       "<text font-family=\"Times,serif\" font-size=\"14.00\" text-anchor=\"middle\" x=\"288.852\" y=\"-515.3\">(None, 32, 12, 12)</text>\n",
       "<polyline fill=\"none\" points=\"229.528,-508.5 348.176,-508.5 \" stroke=\"black\"/>\n",
       "<text font-family=\"Times,serif\" font-size=\"14.00\" text-anchor=\"middle\" x=\"288.852\" y=\"-493.3\">(None, 32, 12, 12)</text>\n",
       "</g>\n",
       "<!-- 4526997328&#45;&gt;4527045584 -->\n",
       "<g class=\"edge\" id=\"edge6\"><title>4526997328-&gt;4527045584</title>\n",
       "<path d=\"M194.499,-567.329C194.499,-559.183 194.499,-549.699 194.499,-540.797\" fill=\"none\" stroke=\"black\"/>\n",
       "<polygon fill=\"black\" points=\"197.999,-540.729 194.499,-530.729 190.999,-540.729 197.999,-540.729\" stroke=\"black\"/>\n",
       "</g>\n",
       "<!-- 4527162896 -->\n",
       "<g class=\"node\" id=\"node8\"><title>4527162896</title>\n",
       "<polygon fill=\"none\" points=\"48.9897,-405.5 48.9897,-449.5 340.007,-449.5 340.007,-405.5 48.9897,-405.5\" stroke=\"black\"/>\n",
       "<text font-family=\"Times,serif\" font-size=\"14.00\" text-anchor=\"middle\" x=\"107.34\" y=\"-423.3\">flatten_1 (Flatten)</text>\n",
       "<polyline fill=\"none\" points=\"165.69,-405.5 165.69,-449.5 \" stroke=\"black\"/>\n",
       "<text font-family=\"Times,serif\" font-size=\"14.00\" text-anchor=\"middle\" x=\"193.524\" y=\"-434.3\">input:</text>\n",
       "<polyline fill=\"none\" points=\"165.69,-427.5 221.359,-427.5 \" stroke=\"black\"/>\n",
       "<text font-family=\"Times,serif\" font-size=\"14.00\" text-anchor=\"middle\" x=\"193.524\" y=\"-412.3\">output:</text>\n",
       "<polyline fill=\"none\" points=\"221.359,-405.5 221.359,-449.5 \" stroke=\"black\"/>\n",
       "<text font-family=\"Times,serif\" font-size=\"14.00\" text-anchor=\"middle\" x=\"280.683\" y=\"-434.3\">(None, 32, 12, 12)</text>\n",
       "<polyline fill=\"none\" points=\"221.359,-427.5 340.007,-427.5 \" stroke=\"black\"/>\n",
       "<text font-family=\"Times,serif\" font-size=\"14.00\" text-anchor=\"middle\" x=\"280.683\" y=\"-412.3\">(None, 4608)</text>\n",
       "</g>\n",
       "<!-- 4527045584&#45;&gt;4527162896 -->\n",
       "<g class=\"edge\" id=\"edge7\"><title>4527045584-&gt;4527162896</title>\n",
       "<path d=\"M194.499,-486.329C194.499,-478.183 194.499,-468.699 194.499,-459.797\" fill=\"none\" stroke=\"black\"/>\n",
       "<polygon fill=\"black\" points=\"197.999,-459.729 194.499,-449.729 190.999,-459.729 197.999,-459.729\" stroke=\"black\"/>\n",
       "</g>\n",
       "<!-- 4599914832 -->\n",
       "<g class=\"node\" id=\"node9\"><title>4599914832</title>\n",
       "<polygon fill=\"none\" points=\"66.4966,-324.5 66.4966,-368.5 322.5,-368.5 322.5,-324.5 66.4966,-324.5\" stroke=\"black\"/>\n",
       "<text font-family=\"Times,serif\" font-size=\"14.00\" text-anchor=\"middle\" x=\"121.34\" y=\"-342.3\">dense_1 (Dense)</text>\n",
       "<polyline fill=\"none\" points=\"176.183,-324.5 176.183,-368.5 \" stroke=\"black\"/>\n",
       "<text font-family=\"Times,serif\" font-size=\"14.00\" text-anchor=\"middle\" x=\"204.018\" y=\"-353.3\">input:</text>\n",
       "<polyline fill=\"none\" points=\"176.183,-346.5 231.852,-346.5 \" stroke=\"black\"/>\n",
       "<text font-family=\"Times,serif\" font-size=\"14.00\" text-anchor=\"middle\" x=\"204.018\" y=\"-331.3\">output:</text>\n",
       "<polyline fill=\"none\" points=\"231.852,-324.5 231.852,-368.5 \" stroke=\"black\"/>\n",
       "<text font-family=\"Times,serif\" font-size=\"14.00\" text-anchor=\"middle\" x=\"277.176\" y=\"-353.3\">(None, 4608)</text>\n",
       "<polyline fill=\"none\" points=\"231.852,-346.5 322.5,-346.5 \" stroke=\"black\"/>\n",
       "<text font-family=\"Times,serif\" font-size=\"14.00\" text-anchor=\"middle\" x=\"277.176\" y=\"-331.3\">(None, 128)</text>\n",
       "</g>\n",
       "<!-- 4527162896&#45;&gt;4599914832 -->\n",
       "<g class=\"edge\" id=\"edge8\"><title>4527162896-&gt;4599914832</title>\n",
       "<path d=\"M194.499,-405.329C194.499,-397.183 194.499,-387.699 194.499,-378.797\" fill=\"none\" stroke=\"black\"/>\n",
       "<polygon fill=\"black\" points=\"197.999,-378.729 194.499,-368.729 190.999,-378.729 197.999,-378.729\" stroke=\"black\"/>\n",
       "</g>\n",
       "<!-- 4600820240 -->\n",
       "<g class=\"node\" id=\"node10\"><title>4600820240</title>\n",
       "<polygon fill=\"none\" points=\"46.2793,-243.5 46.2793,-287.5 342.718,-287.5 342.718,-243.5 46.2793,-243.5\" stroke=\"black\"/>\n",
       "<text font-family=\"Times,serif\" font-size=\"14.00\" text-anchor=\"middle\" x=\"124.84\" y=\"-261.3\">activation_3 (Activation)</text>\n",
       "<polyline fill=\"none\" points=\"203.4,-243.5 203.4,-287.5 \" stroke=\"black\"/>\n",
       "<text font-family=\"Times,serif\" font-size=\"14.00\" text-anchor=\"middle\" x=\"231.235\" y=\"-272.3\">input:</text>\n",
       "<polyline fill=\"none\" points=\"203.4,-265.5 259.069,-265.5 \" stroke=\"black\"/>\n",
       "<text font-family=\"Times,serif\" font-size=\"14.00\" text-anchor=\"middle\" x=\"231.235\" y=\"-250.3\">output:</text>\n",
       "<polyline fill=\"none\" points=\"259.069,-243.5 259.069,-287.5 \" stroke=\"black\"/>\n",
       "<text font-family=\"Times,serif\" font-size=\"14.00\" text-anchor=\"middle\" x=\"300.894\" y=\"-272.3\">(None, 128)</text>\n",
       "<polyline fill=\"none\" points=\"259.069,-265.5 342.718,-265.5 \" stroke=\"black\"/>\n",
       "<text font-family=\"Times,serif\" font-size=\"14.00\" text-anchor=\"middle\" x=\"300.894\" y=\"-250.3\">(None, 128)</text>\n",
       "</g>\n",
       "<!-- 4599914832&#45;&gt;4600820240 -->\n",
       "<g class=\"edge\" id=\"edge9\"><title>4599914832-&gt;4600820240</title>\n",
       "<path d=\"M194.499,-324.329C194.499,-316.183 194.499,-306.699 194.499,-297.797\" fill=\"none\" stroke=\"black\"/>\n",
       "<polygon fill=\"black\" points=\"197.999,-297.729 194.499,-287.729 190.999,-297.729 197.999,-297.729\" stroke=\"black\"/>\n",
       "</g>\n",
       "<!-- 4600821968 -->\n",
       "<g class=\"node\" id=\"node11\"><title>4600821968</title>\n",
       "<polygon fill=\"none\" points=\"58.3208,-162.5 58.3208,-206.5 330.676,-206.5 330.676,-162.5 58.3208,-162.5\" stroke=\"black\"/>\n",
       "<text font-family=\"Times,serif\" font-size=\"14.00\" text-anchor=\"middle\" x=\"124.84\" y=\"-180.3\">dropout_2 (Dropout)</text>\n",
       "<polyline fill=\"none\" points=\"191.359,-162.5 191.359,-206.5 \" stroke=\"black\"/>\n",
       "<text font-family=\"Times,serif\" font-size=\"14.00\" text-anchor=\"middle\" x=\"219.193\" y=\"-191.3\">input:</text>\n",
       "<polyline fill=\"none\" points=\"191.359,-184.5 247.028,-184.5 \" stroke=\"black\"/>\n",
       "<text font-family=\"Times,serif\" font-size=\"14.00\" text-anchor=\"middle\" x=\"219.193\" y=\"-169.3\">output:</text>\n",
       "<polyline fill=\"none\" points=\"247.028,-162.5 247.028,-206.5 \" stroke=\"black\"/>\n",
       "<text font-family=\"Times,serif\" font-size=\"14.00\" text-anchor=\"middle\" x=\"288.852\" y=\"-191.3\">(None, 128)</text>\n",
       "<polyline fill=\"none\" points=\"247.028,-184.5 330.676,-184.5 \" stroke=\"black\"/>\n",
       "<text font-family=\"Times,serif\" font-size=\"14.00\" text-anchor=\"middle\" x=\"288.852\" y=\"-169.3\">(None, 128)</text>\n",
       "</g>\n",
       "<!-- 4600820240&#45;&gt;4600821968 -->\n",
       "<g class=\"edge\" id=\"edge10\"><title>4600820240-&gt;4600821968</title>\n",
       "<path d=\"M194.499,-243.329C194.499,-235.183 194.499,-225.699 194.499,-216.797\" fill=\"none\" stroke=\"black\"/>\n",
       "<polygon fill=\"black\" points=\"197.999,-216.729 194.499,-206.729 190.999,-216.729 197.999,-216.729\" stroke=\"black\"/>\n",
       "</g>\n",
       "<!-- 4600868688 -->\n",
       "<g class=\"node\" id=\"node12\"><title>4600868688</title>\n",
       "<polygon fill=\"none\" points=\"69.9966,-81.5 69.9966,-125.5 319,-125.5 319,-81.5 69.9966,-81.5\" stroke=\"black\"/>\n",
       "<text font-family=\"Times,serif\" font-size=\"14.00\" text-anchor=\"middle\" x=\"124.84\" y=\"-99.3\">dense_2 (Dense)</text>\n",
       "<polyline fill=\"none\" points=\"179.683,-81.5 179.683,-125.5 \" stroke=\"black\"/>\n",
       "<text font-family=\"Times,serif\" font-size=\"14.00\" text-anchor=\"middle\" x=\"207.518\" y=\"-110.3\">input:</text>\n",
       "<polyline fill=\"none\" points=\"179.683,-103.5 235.352,-103.5 \" stroke=\"black\"/>\n",
       "<text font-family=\"Times,serif\" font-size=\"14.00\" text-anchor=\"middle\" x=\"207.518\" y=\"-88.3\">output:</text>\n",
       "<polyline fill=\"none\" points=\"235.352,-81.5 235.352,-125.5 \" stroke=\"black\"/>\n",
       "<text font-family=\"Times,serif\" font-size=\"14.00\" text-anchor=\"middle\" x=\"277.176\" y=\"-110.3\">(None, 128)</text>\n",
       "<polyline fill=\"none\" points=\"235.352,-103.5 319,-103.5 \" stroke=\"black\"/>\n",
       "<text font-family=\"Times,serif\" font-size=\"14.00\" text-anchor=\"middle\" x=\"277.176\" y=\"-88.3\">(None, 10)</text>\n",
       "</g>\n",
       "<!-- 4600821968&#45;&gt;4600868688 -->\n",
       "<g class=\"edge\" id=\"edge11\"><title>4600821968-&gt;4600868688</title>\n",
       "<path d=\"M194.499,-162.329C194.499,-154.183 194.499,-144.699 194.499,-135.797\" fill=\"none\" stroke=\"black\"/>\n",
       "<polygon fill=\"black\" points=\"197.999,-135.729 194.499,-125.729 190.999,-135.729 197.999,-135.729\" stroke=\"black\"/>\n",
       "</g>\n",
       "<!-- 4600868176 -->\n",
       "<g class=\"node\" id=\"node13\"><title>4600868176</title>\n",
       "<polygon fill=\"none\" points=\"49.7793,-0.5 49.7793,-44.5 339.218,-44.5 339.218,-0.5 49.7793,-0.5\" stroke=\"black\"/>\n",
       "<text font-family=\"Times,serif\" font-size=\"14.00\" text-anchor=\"middle\" x=\"128.34\" y=\"-18.3\">activation_4 (Activation)</text>\n",
       "<polyline fill=\"none\" points=\"206.9,-0.5 206.9,-44.5 \" stroke=\"black\"/>\n",
       "<text font-family=\"Times,serif\" font-size=\"14.00\" text-anchor=\"middle\" x=\"234.735\" y=\"-29.3\">input:</text>\n",
       "<polyline fill=\"none\" points=\"206.9,-22.5 262.569,-22.5 \" stroke=\"black\"/>\n",
       "<text font-family=\"Times,serif\" font-size=\"14.00\" text-anchor=\"middle\" x=\"234.735\" y=\"-7.3\">output:</text>\n",
       "<polyline fill=\"none\" points=\"262.569,-0.5 262.569,-44.5 \" stroke=\"black\"/>\n",
       "<text font-family=\"Times,serif\" font-size=\"14.00\" text-anchor=\"middle\" x=\"300.894\" y=\"-29.3\">(None, 10)</text>\n",
       "<polyline fill=\"none\" points=\"262.569,-22.5 339.218,-22.5 \" stroke=\"black\"/>\n",
       "<text font-family=\"Times,serif\" font-size=\"14.00\" text-anchor=\"middle\" x=\"300.894\" y=\"-7.3\">(None, 10)</text>\n",
       "</g>\n",
       "<!-- 4600868688&#45;&gt;4600868176 -->\n",
       "<g class=\"edge\" id=\"edge12\"><title>4600868688-&gt;4600868176</title>\n",
       "<path d=\"M194.499,-81.3294C194.499,-73.1826 194.499,-63.6991 194.499,-54.7971\" fill=\"none\" stroke=\"black\"/>\n",
       "<polygon fill=\"black\" points=\"197.999,-54.729 194.499,-44.729 190.999,-54.729 197.999,-54.729\" stroke=\"black\"/>\n",
       "</g>\n",
       "</g>\n",
       "</svg>"
      ],
      "text/plain": [
       "<IPython.core.display.SVG object>"
      ]
     },
     "execution_count": 5,
     "metadata": {},
     "output_type": "execute_result"
    }
   ],
   "source": [
    "SVG(model_to_dot(model, show_shapes=True).create(prog='dot', format='svg'))"
   ]
  },
  {
   "cell_type": "code",
   "execution_count": 114,
   "metadata": {
    "collapsed": true
   },
   "outputs": [],
   "source": [
    "# モデルをコンパイル\n",
    "model.compile(loss='categorical_crossentropy', optimizer=Adam(lr=0.01), metrics=['accuracy'])"
   ]
  },
  {
   "cell_type": "code",
   "execution_count": 115,
   "metadata": {
    "collapsed": false
   },
   "outputs": [
    {
     "name": "stdout",
     "output_type": "stream",
     "text": [
      "Epoch 1/10\n",
      "60000/60000 [==============================] - 173s - loss: 0.2497 - acc: 0.9248   \n",
      "Epoch 2/10\n",
      "60000/60000 [==============================] - 158s - loss: 0.1570 - acc: 0.9543   \n",
      "Epoch 3/10\n",
      "60000/60000 [==============================] - 155s - loss: 0.1470 - acc: 0.9582   \n",
      "Epoch 4/10\n",
      "60000/60000 [==============================] - 155s - loss: 0.1468 - acc: 0.9585   \n",
      "Epoch 5/10\n",
      "60000/60000 [==============================] - 155s - loss: 0.1397 - acc: 0.9607   \n",
      "Epoch 6/10\n",
      "60000/60000 [==============================] - 156s - loss: 0.1381 - acc: 0.9611   \n",
      "Epoch 7/10\n",
      "60000/60000 [==============================] - 155s - loss: 0.1348 - acc: 0.9628   \n",
      "Epoch 8/10\n",
      "60000/60000 [==============================] - 156s - loss: 0.1259 - acc: 0.9651   \n",
      "Epoch 9/10\n",
      "60000/60000 [==============================] - 155s - loss: 0.1297 - acc: 0.9642   \n",
      "Epoch 10/10\n",
      "60000/60000 [==============================] - 157s - loss: 0.1358 - acc: 0.9633   \n"
     ]
    },
    {
     "data": {
      "text/plain": [
       "<keras.callbacks.History at 0x128a9fe10>"
      ]
     },
     "execution_count": 115,
     "metadata": {},
     "output_type": "execute_result"
    }
   ],
   "source": [
    "model.fit(X_train, Y_train, nb_epoch=10, batch_size=100)"
   ]
  },
  {
   "cell_type": "code",
   "execution_count": 116,
   "metadata": {
    "collapsed": false
   },
   "outputs": [
    {
     "name": "stdout",
     "output_type": "stream",
     "text": [
      "10000/10000 [==============================] - 10s    \n"
     ]
    },
    {
     "data": {
      "text/plain": [
       "[0.054246928266129091, 0.98440000000000005]"
      ]
     },
     "execution_count": 116,
     "metadata": {},
     "output_type": "execute_result"
    }
   ],
   "source": [
    "model.evaluate(X_test, Y_test, verbose=True)"
   ]
  },
  {
   "cell_type": "code",
   "execution_count": null,
   "metadata": {
    "collapsed": true
   },
   "outputs": [],
   "source": []
  }
 ],
 "metadata": {
  "kernelspec": {
   "display_name": "Python 2",
   "language": "python",
   "name": "python2"
  },
  "language_info": {
   "codemirror_mode": {
    "name": "ipython",
    "version": 2
   },
   "file_extension": ".py",
   "mimetype": "text/x-python",
   "name": "python",
   "nbconvert_exporter": "python",
   "pygments_lexer": "ipython2",
   "version": "2.7.11"
  }
 },
 "nbformat": 4,
 "nbformat_minor": 0
}
