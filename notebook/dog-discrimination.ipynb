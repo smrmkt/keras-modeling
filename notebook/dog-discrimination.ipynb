{
 "cells": [
  {
   "cell_type": "code",
   "execution_count": 274,
   "metadata": {
    "collapsed": false
   },
   "outputs": [],
   "source": [
    "from keras.datasets import mnist, cifar10, imdb\n",
    "from keras.layers.core import Activation, Dropout, Dense, Flatten\n",
    "from keras.layers.convolutional import Convolution2D, MaxPooling2D\n",
    "from keras.models import Sequential\n",
    "from keras.optimizers import Adam\n",
    "from keras.utils import np_utils\n",
    "from keras.utils.visualize_util import model_to_dot, plot\n",
    "\n",
    "from IPython.display import SVG, display\n",
    "from sklearn import datasets, preprocessing\n",
    "import numpy as np\n",
    "from numpy.random import *\n",
    "\n",
    "from PIL import Image\n",
    "import glob"
   ]
  },
  {
   "cell_type": "code",
   "execution_count": 272,
   "metadata": {
    "collapsed": true
   },
   "outputs": [],
   "source": [
    "# cnn parameters\n",
    "batch_size = 64\n",
    "nb_classes = 25\n",
    "nb_epoch = 12\n",
    "nb_filters = 4\n",
    "nb_pool = 2\n",
    "nb_conv = 3\n",
    "\n",
    "# input image dimensions\n",
    "img_channels = 3\n",
    "img_rows, img_cols = 64, 64\n",
    "# train:test ratio\n",
    "test_ratio = 0.2"
   ]
  },
  {
   "cell_type": "code",
   "execution_count": 275,
   "metadata": {
    "collapsed": false
   },
   "outputs": [
    {
     "name": "stdout",
     "output_type": "stream",
     "text": [
      "staffordshire_bull_terrier 100\n",
      "staffordshire_bull_terrier 106\n"
     ]
    }
   ],
   "source": [
    "# load data from image file\n",
    "labels =[line.rstrip() for line in open(\"../data/dog_labels.tsv\")]\n",
    "\n",
    "X_train = np.empty((0, 3, img_rows, img_cols), dtype=np.uint8)\n",
    "X_test = np.empty((0, 3, img_rows, img_cols), dtype=np.uint8)\n",
    "Y_train = np.empty((0, 1), dtype=np.int)\n",
    "Y_test = np.empty((0, 1), dtype=np.int)\n",
    "for i, label in enumerate(labels):\n",
    "    imgs = glob.glob(\"../data/images/resized/{label}*\".format(label=label))\n",
    "    for j, img in enumerate(imgs):\n",
    "        try:\n",
    "            if rand() > test_ratio:\n",
    "                X_train = np.append(X_train, [np.array(Image.open(img)).transpose(2, 0, 1)], axis=0)\n",
    "                Y_train = np.append(Y_train, [np.array([i])], axis=0)\n",
    "            else:\n",
    "                X_test = np.append(X_test, [np.array(Image.open(img)).transpose(2, 0, 1)], axis=0)\n",
    "                Y_test = np.append(Y_test,  [np.array([i])], axis=0)\n",
    "        except ValueError:\n",
    "            print label, j"
   ]
  },
  {
   "cell_type": "code",
   "execution_count": 276,
   "metadata": {
    "collapsed": false
   },
   "outputs": [
    {
     "name": "stdout",
     "output_type": "stream",
     "text": [
      "('X_train shape:', (3690, 3, 64, 64))\n",
      "(3690, 'train samples')\n",
      "(898, 'test samples')\n"
     ]
    }
   ],
   "source": [
    "# transform data\n",
    "X_train = X_train.astype(\"float32\")\n",
    "X_test = X_test.astype(\"float32\")\n",
    "X_train /= 255\n",
    "X_test /= 255\n",
    "print('X_train shape:', X_train.shape)\n",
    "print(X_train.shape[0], 'train samples')\n",
    "print(X_test.shape[0], 'test samples')\n",
    "\n",
    "# convert class vectors to binary class matrices\n",
    "Y_train = np_utils.to_categorical(Y_train, nb_classes)\n",
    "Y_test = np_utils.to_categorical(Y_test, nb_classes)"
   ]
  },
  {
   "cell_type": "code",
   "execution_count": 282,
   "metadata": {
    "collapsed": true
   },
   "outputs": [],
   "source": [
    "model = Sequential()\n",
    "model.add(Convolution2D(nb_filter, 3, 3, input_shape=(img_channels, img_rows, img_cols)))\n",
    "model.add(Activation('relu'))\n",
    "model.add(Convolution2D(nb_filter, 3, 3))\n",
    "model.add(Activation('relu'))\n",
    "model.add(Dropout(0.5))\n",
    "model.add(MaxPooling2D(pool_size=(2, 2)))\n",
    "model.add(Flatten())\n",
    "model.add(Dense(512))\n",
    "model.add(Dropout(0.5))\n",
    "model.add(Activation('relu'))\n",
    "model.add(Dense(nb_classes))\n",
    "model.add(Activation('softmax'))\n",
    "\n",
    "model.compile(loss='categorical_crossentropy',\n",
    "              optimizer='adadelta',\n",
    "              metrics=['accuracy'])"
   ]
  },
  {
   "cell_type": "code",
   "execution_count": 283,
   "metadata": {
    "collapsed": false,
    "scrolled": false
   },
   "outputs": [
    {
     "data": {
      "image/svg+xml": [
       "<svg height=\"1025pt\" viewBox=\"0.00 0.00 404.00 1025.00\" width=\"404pt\" xmlns=\"http://www.w3.org/2000/svg\" xmlns:xlink=\"http://www.w3.org/1999/xlink\">\n",
       "<g class=\"graph\" id=\"graph0\" transform=\"scale(1 1) rotate(0) translate(4 1021)\">\n",
       "<title>G</title>\n",
       "<polygon fill=\"white\" points=\"-4,4 -4,-1021 399.997,-1021 399.997,4 -4,4\" stroke=\"none\"/>\n",
       "<!-- 5260990288 -->\n",
       "<g class=\"node\" id=\"node1\"><title>5260990288</title>\n",
       "<polygon fill=\"none\" points=\"0,-972.5 0,-1016.5 395.997,-1016.5 395.997,-972.5 0,-972.5\" stroke=\"black\"/>\n",
       "<text font-family=\"Times,serif\" font-size=\"14.00\" text-anchor=\"middle\" x=\"114.34\" y=\"-990.3\">convolution2d_input_10 (InputLayer)</text>\n",
       "<polyline fill=\"none\" points=\"228.68,-972.5 228.68,-1016.5 \" stroke=\"black\"/>\n",
       "<text font-family=\"Times,serif\" font-size=\"14.00\" text-anchor=\"middle\" x=\"256.514\" y=\"-1001.3\">input:</text>\n",
       "<polyline fill=\"none\" points=\"228.68,-994.5 284.349,-994.5 \" stroke=\"black\"/>\n",
       "<text font-family=\"Times,serif\" font-size=\"14.00\" text-anchor=\"middle\" x=\"256.514\" y=\"-979.3\">output:</text>\n",
       "<polyline fill=\"none\" points=\"284.349,-972.5 284.349,-1016.5 \" stroke=\"black\"/>\n",
       "<text font-family=\"Times,serif\" font-size=\"14.00\" text-anchor=\"middle\" x=\"340.173\" y=\"-1001.3\">(None, 3, 64, 64)</text>\n",
       "<polyline fill=\"none\" points=\"284.349,-994.5 395.997,-994.5 \" stroke=\"black\"/>\n",
       "<text font-family=\"Times,serif\" font-size=\"14.00\" text-anchor=\"middle\" x=\"340.173\" y=\"-979.3\">(None, 3, 64, 64)</text>\n",
       "</g>\n",
       "<!-- 5260990032 -->\n",
       "<g class=\"node\" id=\"node2\"><title>5260990032</title>\n",
       "<polygon fill=\"none\" points=\"1.92773,-891.5 1.92773,-935.5 394.069,-935.5 394.069,-891.5 1.92773,-891.5\" stroke=\"black\"/>\n",
       "<text font-family=\"Times,serif\" font-size=\"14.00\" text-anchor=\"middle\" x=\"110.84\" y=\"-909.3\">convolution2d_31 (Convolution2D)</text>\n",
       "<polyline fill=\"none\" points=\"219.752,-891.5 219.752,-935.5 \" stroke=\"black\"/>\n",
       "<text font-family=\"Times,serif\" font-size=\"14.00\" text-anchor=\"middle\" x=\"247.586\" y=\"-920.3\">input:</text>\n",
       "<polyline fill=\"none\" points=\"219.752,-913.5 275.421,-913.5 \" stroke=\"black\"/>\n",
       "<text font-family=\"Times,serif\" font-size=\"14.00\" text-anchor=\"middle\" x=\"247.586\" y=\"-898.3\">output:</text>\n",
       "<polyline fill=\"none\" points=\"275.421,-891.5 275.421,-935.5 \" stroke=\"black\"/>\n",
       "<text font-family=\"Times,serif\" font-size=\"14.00\" text-anchor=\"middle\" x=\"334.745\" y=\"-920.3\">(None, 3, 64, 64)</text>\n",
       "<polyline fill=\"none\" points=\"275.421,-913.5 394.069,-913.5 \" stroke=\"black\"/>\n",
       "<text font-family=\"Times,serif\" font-size=\"14.00\" text-anchor=\"middle\" x=\"334.745\" y=\"-898.3\">(None, 10, 62, 62)</text>\n",
       "</g>\n",
       "<!-- 5260990288&#45;&gt;5260990032 -->\n",
       "<g class=\"edge\" id=\"edge1\"><title>5260990288-&gt;5260990032</title>\n",
       "<path d=\"M197.999,-972.329C197.999,-964.183 197.999,-954.699 197.999,-945.797\" fill=\"none\" stroke=\"black\"/>\n",
       "<polygon fill=\"black\" points=\"201.499,-945.729 197.999,-935.729 194.499,-945.729 201.499,-945.729\" stroke=\"black\"/>\n",
       "</g>\n",
       "<!-- 5260990096 -->\n",
       "<g class=\"node\" id=\"node3\"><title>5260990096</title>\n",
       "<polygon fill=\"none\" points=\"28.7793,-810.5 28.7793,-854.5 367.218,-854.5 367.218,-810.5 28.7793,-810.5\" stroke=\"black\"/>\n",
       "<text font-family=\"Times,serif\" font-size=\"14.00\" text-anchor=\"middle\" x=\"110.84\" y=\"-828.3\">activation_49 (Activation)</text>\n",
       "<polyline fill=\"none\" points=\"192.9,-810.5 192.9,-854.5 \" stroke=\"black\"/>\n",
       "<text font-family=\"Times,serif\" font-size=\"14.00\" text-anchor=\"middle\" x=\"220.735\" y=\"-839.3\">input:</text>\n",
       "<polyline fill=\"none\" points=\"192.9,-832.5 248.569,-832.5 \" stroke=\"black\"/>\n",
       "<text font-family=\"Times,serif\" font-size=\"14.00\" text-anchor=\"middle\" x=\"220.735\" y=\"-817.3\">output:</text>\n",
       "<polyline fill=\"none\" points=\"248.569,-810.5 248.569,-854.5 \" stroke=\"black\"/>\n",
       "<text font-family=\"Times,serif\" font-size=\"14.00\" text-anchor=\"middle\" x=\"307.894\" y=\"-839.3\">(None, 10, 62, 62)</text>\n",
       "<polyline fill=\"none\" points=\"248.569,-832.5 367.218,-832.5 \" stroke=\"black\"/>\n",
       "<text font-family=\"Times,serif\" font-size=\"14.00\" text-anchor=\"middle\" x=\"307.894\" y=\"-817.3\">(None, 10, 62, 62)</text>\n",
       "</g>\n",
       "<!-- 5260990032&#45;&gt;5260990096 -->\n",
       "<g class=\"edge\" id=\"edge2\"><title>5260990032-&gt;5260990096</title>\n",
       "<path d=\"M197.999,-891.329C197.999,-883.183 197.999,-873.699 197.999,-864.797\" fill=\"none\" stroke=\"black\"/>\n",
       "<polygon fill=\"black\" points=\"201.499,-864.729 197.999,-854.729 194.499,-864.729 201.499,-864.729\" stroke=\"black\"/>\n",
       "</g>\n",
       "<!-- 5260990992 -->\n",
       "<g class=\"node\" id=\"node4\"><title>5260990992</title>\n",
       "<polygon fill=\"none\" points=\"1.92773,-729.5 1.92773,-773.5 394.069,-773.5 394.069,-729.5 1.92773,-729.5\" stroke=\"black\"/>\n",
       "<text font-family=\"Times,serif\" font-size=\"14.00\" text-anchor=\"middle\" x=\"110.84\" y=\"-747.3\">convolution2d_32 (Convolution2D)</text>\n",
       "<polyline fill=\"none\" points=\"219.752,-729.5 219.752,-773.5 \" stroke=\"black\"/>\n",
       "<text font-family=\"Times,serif\" font-size=\"14.00\" text-anchor=\"middle\" x=\"247.586\" y=\"-758.3\">input:</text>\n",
       "<polyline fill=\"none\" points=\"219.752,-751.5 275.421,-751.5 \" stroke=\"black\"/>\n",
       "<text font-family=\"Times,serif\" font-size=\"14.00\" text-anchor=\"middle\" x=\"247.586\" y=\"-736.3\">output:</text>\n",
       "<polyline fill=\"none\" points=\"275.421,-729.5 275.421,-773.5 \" stroke=\"black\"/>\n",
       "<text font-family=\"Times,serif\" font-size=\"14.00\" text-anchor=\"middle\" x=\"334.745\" y=\"-758.3\">(None, 10, 62, 62)</text>\n",
       "<polyline fill=\"none\" points=\"275.421,-751.5 394.069,-751.5 \" stroke=\"black\"/>\n",
       "<text font-family=\"Times,serif\" font-size=\"14.00\" text-anchor=\"middle\" x=\"334.745\" y=\"-736.3\">(None, 10, 60, 60)</text>\n",
       "</g>\n",
       "<!-- 5260990096&#45;&gt;5260990992 -->\n",
       "<g class=\"edge\" id=\"edge3\"><title>5260990096-&gt;5260990992</title>\n",
       "<path d=\"M197.999,-810.329C197.999,-802.183 197.999,-792.699 197.999,-783.797\" fill=\"none\" stroke=\"black\"/>\n",
       "<polygon fill=\"black\" points=\"201.499,-783.729 197.999,-773.729 194.499,-783.729 201.499,-783.729\" stroke=\"black\"/>\n",
       "</g>\n",
       "<!-- 4832252368 -->\n",
       "<g class=\"node\" id=\"node5\"><title>4832252368</title>\n",
       "<polygon fill=\"none\" points=\"28.7793,-648.5 28.7793,-692.5 367.218,-692.5 367.218,-648.5 28.7793,-648.5\" stroke=\"black\"/>\n",
       "<text font-family=\"Times,serif\" font-size=\"14.00\" text-anchor=\"middle\" x=\"110.84\" y=\"-666.3\">activation_50 (Activation)</text>\n",
       "<polyline fill=\"none\" points=\"192.9,-648.5 192.9,-692.5 \" stroke=\"black\"/>\n",
       "<text font-family=\"Times,serif\" font-size=\"14.00\" text-anchor=\"middle\" x=\"220.735\" y=\"-677.3\">input:</text>\n",
       "<polyline fill=\"none\" points=\"192.9,-670.5 248.569,-670.5 \" stroke=\"black\"/>\n",
       "<text font-family=\"Times,serif\" font-size=\"14.00\" text-anchor=\"middle\" x=\"220.735\" y=\"-655.3\">output:</text>\n",
       "<polyline fill=\"none\" points=\"248.569,-648.5 248.569,-692.5 \" stroke=\"black\"/>\n",
       "<text font-family=\"Times,serif\" font-size=\"14.00\" text-anchor=\"middle\" x=\"307.894\" y=\"-677.3\">(None, 10, 60, 60)</text>\n",
       "<polyline fill=\"none\" points=\"248.569,-670.5 367.218,-670.5 \" stroke=\"black\"/>\n",
       "<text font-family=\"Times,serif\" font-size=\"14.00\" text-anchor=\"middle\" x=\"307.894\" y=\"-655.3\">(None, 10, 60, 60)</text>\n",
       "</g>\n",
       "<!-- 5260990992&#45;&gt;4832252368 -->\n",
       "<g class=\"edge\" id=\"edge4\"><title>5260990992-&gt;4832252368</title>\n",
       "<path d=\"M197.999,-729.329C197.999,-721.183 197.999,-711.699 197.999,-702.797\" fill=\"none\" stroke=\"black\"/>\n",
       "<polygon fill=\"black\" points=\"201.499,-702.729 197.999,-692.729 194.499,-702.729 201.499,-702.729\" stroke=\"black\"/>\n",
       "</g>\n",
       "<!-- 5263390416 -->\n",
       "<g class=\"node\" id=\"node6\"><title>5263390416</title>\n",
       "<polygon fill=\"none\" points=\"40.8208,-567.5 40.8208,-611.5 355.176,-611.5 355.176,-567.5 40.8208,-567.5\" stroke=\"black\"/>\n",
       "<text font-family=\"Times,serif\" font-size=\"14.00\" text-anchor=\"middle\" x=\"110.84\" y=\"-585.3\">dropout_21 (Dropout)</text>\n",
       "<polyline fill=\"none\" points=\"180.859,-567.5 180.859,-611.5 \" stroke=\"black\"/>\n",
       "<text font-family=\"Times,serif\" font-size=\"14.00\" text-anchor=\"middle\" x=\"208.693\" y=\"-596.3\">input:</text>\n",
       "<polyline fill=\"none\" points=\"180.859,-589.5 236.528,-589.5 \" stroke=\"black\"/>\n",
       "<text font-family=\"Times,serif\" font-size=\"14.00\" text-anchor=\"middle\" x=\"208.693\" y=\"-574.3\">output:</text>\n",
       "<polyline fill=\"none\" points=\"236.528,-567.5 236.528,-611.5 \" stroke=\"black\"/>\n",
       "<text font-family=\"Times,serif\" font-size=\"14.00\" text-anchor=\"middle\" x=\"295.852\" y=\"-596.3\">(None, 10, 60, 60)</text>\n",
       "<polyline fill=\"none\" points=\"236.528,-589.5 355.176,-589.5 \" stroke=\"black\"/>\n",
       "<text font-family=\"Times,serif\" font-size=\"14.00\" text-anchor=\"middle\" x=\"295.852\" y=\"-574.3\">(None, 10, 60, 60)</text>\n",
       "</g>\n",
       "<!-- 4832252368&#45;&gt;5263390416 -->\n",
       "<g class=\"edge\" id=\"edge5\"><title>4832252368-&gt;5263390416</title>\n",
       "<path d=\"M197.999,-648.329C197.999,-640.183 197.999,-630.699 197.999,-621.797\" fill=\"none\" stroke=\"black\"/>\n",
       "<polygon fill=\"black\" points=\"201.499,-621.729 197.999,-611.729 194.499,-621.729 201.499,-621.729\" stroke=\"black\"/>\n",
       "</g>\n",
       "<!-- 5263389008 -->\n",
       "<g class=\"node\" id=\"node7\"><title>5263389008</title>\n",
       "<polygon fill=\"none\" points=\"2.31738,-486.5 2.31738,-530.5 393.68,-530.5 393.68,-486.5 2.31738,-486.5\" stroke=\"black\"/>\n",
       "<text font-family=\"Times,serif\" font-size=\"14.00\" text-anchor=\"middle\" x=\"110.84\" y=\"-504.3\">maxpooling2d_16 (MaxPooling2D)</text>\n",
       "<polyline fill=\"none\" points=\"219.362,-486.5 219.362,-530.5 \" stroke=\"black\"/>\n",
       "<text font-family=\"Times,serif\" font-size=\"14.00\" text-anchor=\"middle\" x=\"247.197\" y=\"-515.3\">input:</text>\n",
       "<polyline fill=\"none\" points=\"219.362,-508.5 275.031,-508.5 \" stroke=\"black\"/>\n",
       "<text font-family=\"Times,serif\" font-size=\"14.00\" text-anchor=\"middle\" x=\"247.197\" y=\"-493.3\">output:</text>\n",
       "<polyline fill=\"none\" points=\"275.031,-486.5 275.031,-530.5 \" stroke=\"black\"/>\n",
       "<text font-family=\"Times,serif\" font-size=\"14.00\" text-anchor=\"middle\" x=\"334.355\" y=\"-515.3\">(None, 10, 60, 60)</text>\n",
       "<polyline fill=\"none\" points=\"275.031,-508.5 393.68,-508.5 \" stroke=\"black\"/>\n",
       "<text font-family=\"Times,serif\" font-size=\"14.00\" text-anchor=\"middle\" x=\"334.355\" y=\"-493.3\">(None, 10, 30, 30)</text>\n",
       "</g>\n",
       "<!-- 5263390416&#45;&gt;5263389008 -->\n",
       "<g class=\"edge\" id=\"edge6\"><title>5263390416-&gt;5263389008</title>\n",
       "<path d=\"M197.999,-567.329C197.999,-559.183 197.999,-549.699 197.999,-540.797\" fill=\"none\" stroke=\"black\"/>\n",
       "<polygon fill=\"black\" points=\"201.499,-540.729 197.999,-530.729 194.499,-540.729 201.499,-540.729\" stroke=\"black\"/>\n",
       "</g>\n",
       "<!-- 5263515792 -->\n",
       "<g class=\"node\" id=\"node8\"><title>5263515792</title>\n",
       "<polygon fill=\"none\" points=\"48.9897,-405.5 48.9897,-449.5 347.007,-449.5 347.007,-405.5 48.9897,-405.5\" stroke=\"black\"/>\n",
       "<text font-family=\"Times,serif\" font-size=\"14.00\" text-anchor=\"middle\" x=\"110.84\" y=\"-423.3\">flatten_10 (Flatten)</text>\n",
       "<polyline fill=\"none\" points=\"172.69,-405.5 172.69,-449.5 \" stroke=\"black\"/>\n",
       "<text font-family=\"Times,serif\" font-size=\"14.00\" text-anchor=\"middle\" x=\"200.524\" y=\"-434.3\">input:</text>\n",
       "<polyline fill=\"none\" points=\"172.69,-427.5 228.359,-427.5 \" stroke=\"black\"/>\n",
       "<text font-family=\"Times,serif\" font-size=\"14.00\" text-anchor=\"middle\" x=\"200.524\" y=\"-412.3\">output:</text>\n",
       "<polyline fill=\"none\" points=\"228.359,-405.5 228.359,-449.5 \" stroke=\"black\"/>\n",
       "<text font-family=\"Times,serif\" font-size=\"14.00\" text-anchor=\"middle\" x=\"287.683\" y=\"-434.3\">(None, 10, 30, 30)</text>\n",
       "<polyline fill=\"none\" points=\"228.359,-427.5 347.007,-427.5 \" stroke=\"black\"/>\n",
       "<text font-family=\"Times,serif\" font-size=\"14.00\" text-anchor=\"middle\" x=\"287.683\" y=\"-412.3\">(None, 9000)</text>\n",
       "</g>\n",
       "<!-- 5263389008&#45;&gt;5263515792 -->\n",
       "<g class=\"edge\" id=\"edge7\"><title>5263389008-&gt;5263515792</title>\n",
       "<path d=\"M197.999,-486.329C197.999,-478.183 197.999,-468.699 197.999,-459.797\" fill=\"none\" stroke=\"black\"/>\n",
       "<polygon fill=\"black\" points=\"201.499,-459.729 197.999,-449.729 194.499,-459.729 201.499,-459.729\" stroke=\"black\"/>\n",
       "</g>\n",
       "<!-- 5108621648 -->\n",
       "<g class=\"node\" id=\"node9\"><title>5108621648</title>\n",
       "<polygon fill=\"none\" points=\"66.4966,-324.5 66.4966,-368.5 329.5,-368.5 329.5,-324.5 66.4966,-324.5\" stroke=\"black\"/>\n",
       "<text font-family=\"Times,serif\" font-size=\"14.00\" text-anchor=\"middle\" x=\"124.84\" y=\"-342.3\">dense_19 (Dense)</text>\n",
       "<polyline fill=\"none\" points=\"183.183,-324.5 183.183,-368.5 \" stroke=\"black\"/>\n",
       "<text font-family=\"Times,serif\" font-size=\"14.00\" text-anchor=\"middle\" x=\"211.018\" y=\"-353.3\">input:</text>\n",
       "<polyline fill=\"none\" points=\"183.183,-346.5 238.852,-346.5 \" stroke=\"black\"/>\n",
       "<text font-family=\"Times,serif\" font-size=\"14.00\" text-anchor=\"middle\" x=\"211.018\" y=\"-331.3\">output:</text>\n",
       "<polyline fill=\"none\" points=\"238.852,-324.5 238.852,-368.5 \" stroke=\"black\"/>\n",
       "<text font-family=\"Times,serif\" font-size=\"14.00\" text-anchor=\"middle\" x=\"284.176\" y=\"-353.3\">(None, 9000)</text>\n",
       "<polyline fill=\"none\" points=\"238.852,-346.5 329.5,-346.5 \" stroke=\"black\"/>\n",
       "<text font-family=\"Times,serif\" font-size=\"14.00\" text-anchor=\"middle\" x=\"284.176\" y=\"-331.3\">(None, 512)</text>\n",
       "</g>\n",
       "<!-- 5263515792&#45;&gt;5108621648 -->\n",
       "<g class=\"edge\" id=\"edge8\"><title>5263515792-&gt;5108621648</title>\n",
       "<path d=\"M197.999,-405.329C197.999,-397.183 197.999,-387.699 197.999,-378.797\" fill=\"none\" stroke=\"black\"/>\n",
       "<polygon fill=\"black\" points=\"201.499,-378.729 197.999,-368.729 194.499,-378.729 201.499,-378.729\" stroke=\"black\"/>\n",
       "</g>\n",
       "<!-- 5108625232 -->\n",
       "<g class=\"node\" id=\"node10\"><title>5108625232</title>\n",
       "<polygon fill=\"none\" points=\"58.3208,-243.5 58.3208,-287.5 337.676,-287.5 337.676,-243.5 58.3208,-243.5\" stroke=\"black\"/>\n",
       "<text font-family=\"Times,serif\" font-size=\"14.00\" text-anchor=\"middle\" x=\"128.34\" y=\"-261.3\">dropout_22 (Dropout)</text>\n",
       "<polyline fill=\"none\" points=\"198.359,-243.5 198.359,-287.5 \" stroke=\"black\"/>\n",
       "<text font-family=\"Times,serif\" font-size=\"14.00\" text-anchor=\"middle\" x=\"226.193\" y=\"-272.3\">input:</text>\n",
       "<polyline fill=\"none\" points=\"198.359,-265.5 254.028,-265.5 \" stroke=\"black\"/>\n",
       "<text font-family=\"Times,serif\" font-size=\"14.00\" text-anchor=\"middle\" x=\"226.193\" y=\"-250.3\">output:</text>\n",
       "<polyline fill=\"none\" points=\"254.028,-243.5 254.028,-287.5 \" stroke=\"black\"/>\n",
       "<text font-family=\"Times,serif\" font-size=\"14.00\" text-anchor=\"middle\" x=\"295.852\" y=\"-272.3\">(None, 512)</text>\n",
       "<polyline fill=\"none\" points=\"254.028,-265.5 337.676,-265.5 \" stroke=\"black\"/>\n",
       "<text font-family=\"Times,serif\" font-size=\"14.00\" text-anchor=\"middle\" x=\"295.852\" y=\"-250.3\">(None, 512)</text>\n",
       "</g>\n",
       "<!-- 5108621648&#45;&gt;5108625232 -->\n",
       "<g class=\"edge\" id=\"edge9\"><title>5108621648-&gt;5108625232</title>\n",
       "<path d=\"M197.999,-324.329C197.999,-316.183 197.999,-306.699 197.999,-297.797\" fill=\"none\" stroke=\"black\"/>\n",
       "<polygon fill=\"black\" points=\"201.499,-297.729 197.999,-287.729 194.499,-297.729 201.499,-297.729\" stroke=\"black\"/>\n",
       "</g>\n",
       "<!-- 5108702352 -->\n",
       "<g class=\"node\" id=\"node11\"><title>5108702352</title>\n",
       "<polygon fill=\"none\" points=\"46.2793,-162.5 46.2793,-206.5 349.718,-206.5 349.718,-162.5 46.2793,-162.5\" stroke=\"black\"/>\n",
       "<text font-family=\"Times,serif\" font-size=\"14.00\" text-anchor=\"middle\" x=\"128.34\" y=\"-180.3\">activation_51 (Activation)</text>\n",
       "<polyline fill=\"none\" points=\"210.4,-162.5 210.4,-206.5 \" stroke=\"black\"/>\n",
       "<text font-family=\"Times,serif\" font-size=\"14.00\" text-anchor=\"middle\" x=\"238.235\" y=\"-191.3\">input:</text>\n",
       "<polyline fill=\"none\" points=\"210.4,-184.5 266.069,-184.5 \" stroke=\"black\"/>\n",
       "<text font-family=\"Times,serif\" font-size=\"14.00\" text-anchor=\"middle\" x=\"238.235\" y=\"-169.3\">output:</text>\n",
       "<polyline fill=\"none\" points=\"266.069,-162.5 266.069,-206.5 \" stroke=\"black\"/>\n",
       "<text font-family=\"Times,serif\" font-size=\"14.00\" text-anchor=\"middle\" x=\"307.894\" y=\"-191.3\">(None, 512)</text>\n",
       "<polyline fill=\"none\" points=\"266.069,-184.5 349.718,-184.5 \" stroke=\"black\"/>\n",
       "<text font-family=\"Times,serif\" font-size=\"14.00\" text-anchor=\"middle\" x=\"307.894\" y=\"-169.3\">(None, 512)</text>\n",
       "</g>\n",
       "<!-- 5108625232&#45;&gt;5108702352 -->\n",
       "<g class=\"edge\" id=\"edge10\"><title>5108625232-&gt;5108702352</title>\n",
       "<path d=\"M197.999,-243.329C197.999,-235.183 197.999,-225.699 197.999,-216.797\" fill=\"none\" stroke=\"black\"/>\n",
       "<polygon fill=\"black\" points=\"201.499,-216.729 197.999,-206.729 194.499,-216.729 201.499,-216.729\" stroke=\"black\"/>\n",
       "</g>\n",
       "<!-- 5108827600 -->\n",
       "<g class=\"node\" id=\"node12\"><title>5108827600</title>\n",
       "<polygon fill=\"none\" points=\"69.9966,-81.5 69.9966,-125.5 326,-125.5 326,-81.5 69.9966,-81.5\" stroke=\"black\"/>\n",
       "<text font-family=\"Times,serif\" font-size=\"14.00\" text-anchor=\"middle\" x=\"128.34\" y=\"-99.3\">dense_20 (Dense)</text>\n",
       "<polyline fill=\"none\" points=\"186.683,-81.5 186.683,-125.5 \" stroke=\"black\"/>\n",
       "<text font-family=\"Times,serif\" font-size=\"14.00\" text-anchor=\"middle\" x=\"214.518\" y=\"-110.3\">input:</text>\n",
       "<polyline fill=\"none\" points=\"186.683,-103.5 242.352,-103.5 \" stroke=\"black\"/>\n",
       "<text font-family=\"Times,serif\" font-size=\"14.00\" text-anchor=\"middle\" x=\"214.518\" y=\"-88.3\">output:</text>\n",
       "<polyline fill=\"none\" points=\"242.352,-81.5 242.352,-125.5 \" stroke=\"black\"/>\n",
       "<text font-family=\"Times,serif\" font-size=\"14.00\" text-anchor=\"middle\" x=\"284.176\" y=\"-110.3\">(None, 512)</text>\n",
       "<polyline fill=\"none\" points=\"242.352,-103.5 326,-103.5 \" stroke=\"black\"/>\n",
       "<text font-family=\"Times,serif\" font-size=\"14.00\" text-anchor=\"middle\" x=\"284.176\" y=\"-88.3\">(None, 25)</text>\n",
       "</g>\n",
       "<!-- 5108702352&#45;&gt;5108827600 -->\n",
       "<g class=\"edge\" id=\"edge11\"><title>5108702352-&gt;5108827600</title>\n",
       "<path d=\"M197.999,-162.329C197.999,-154.183 197.999,-144.699 197.999,-135.797\" fill=\"none\" stroke=\"black\"/>\n",
       "<polygon fill=\"black\" points=\"201.499,-135.729 197.999,-125.729 194.499,-135.729 201.499,-135.729\" stroke=\"black\"/>\n",
       "</g>\n",
       "<!-- 5108481040 -->\n",
       "<g class=\"node\" id=\"node13\"><title>5108481040</title>\n",
       "<polygon fill=\"none\" points=\"49.7793,-0.5 49.7793,-44.5 346.218,-44.5 346.218,-0.5 49.7793,-0.5\" stroke=\"black\"/>\n",
       "<text font-family=\"Times,serif\" font-size=\"14.00\" text-anchor=\"middle\" x=\"131.84\" y=\"-18.3\">activation_52 (Activation)</text>\n",
       "<polyline fill=\"none\" points=\"213.9,-0.5 213.9,-44.5 \" stroke=\"black\"/>\n",
       "<text font-family=\"Times,serif\" font-size=\"14.00\" text-anchor=\"middle\" x=\"241.735\" y=\"-29.3\">input:</text>\n",
       "<polyline fill=\"none\" points=\"213.9,-22.5 269.569,-22.5 \" stroke=\"black\"/>\n",
       "<text font-family=\"Times,serif\" font-size=\"14.00\" text-anchor=\"middle\" x=\"241.735\" y=\"-7.3\">output:</text>\n",
       "<polyline fill=\"none\" points=\"269.569,-0.5 269.569,-44.5 \" stroke=\"black\"/>\n",
       "<text font-family=\"Times,serif\" font-size=\"14.00\" text-anchor=\"middle\" x=\"307.894\" y=\"-29.3\">(None, 25)</text>\n",
       "<polyline fill=\"none\" points=\"269.569,-22.5 346.218,-22.5 \" stroke=\"black\"/>\n",
       "<text font-family=\"Times,serif\" font-size=\"14.00\" text-anchor=\"middle\" x=\"307.894\" y=\"-7.3\">(None, 25)</text>\n",
       "</g>\n",
       "<!-- 5108827600&#45;&gt;5108481040 -->\n",
       "<g class=\"edge\" id=\"edge12\"><title>5108827600-&gt;5108481040</title>\n",
       "<path d=\"M197.999,-81.3294C197.999,-73.1826 197.999,-63.6991 197.999,-54.7971\" fill=\"none\" stroke=\"black\"/>\n",
       "<polygon fill=\"black\" points=\"201.499,-54.729 197.999,-44.729 194.499,-54.729 201.499,-54.729\" stroke=\"black\"/>\n",
       "</g>\n",
       "</g>\n",
       "</svg>"
      ],
      "text/plain": [
       "<IPython.core.display.SVG object>"
      ]
     },
     "execution_count": 283,
     "metadata": {},
     "output_type": "execute_result"
    }
   ],
   "source": [
    "SVG(model_to_dot(model, show_shapes=True).create(prog='dot', format='svg'))"
   ]
  },
  {
   "cell_type": "code",
   "execution_count": 284,
   "metadata": {
    "collapsed": true
   },
   "outputs": [],
   "source": [
    "# モデルをコンパイル\n",
    "model.compile(loss='categorical_crossentropy', optimizer='adadelta', metrics=['accuracy'])"
   ]
  },
  {
   "cell_type": "code",
   "execution_count": 285,
   "metadata": {
    "collapsed": false
   },
   "outputs": [
    {
     "name": "stdout",
     "output_type": "stream",
     "text": [
      "Epoch 1/12\n",
      "3690/3690 [==============================] - 61s - loss: 3.1744 - acc: 0.0585    \n",
      "Epoch 2/12\n",
      "3690/3690 [==============================] - 62s - loss: 3.0209 - acc: 0.1041    \n",
      "Epoch 3/12\n",
      "3690/3690 [==============================] - 64s - loss: 2.8313 - acc: 0.1645    \n",
      "Epoch 4/12\n",
      "3690/3690 [==============================] - 79s - loss: 2.6318 - acc: 0.2287    \n",
      "Epoch 5/12\n",
      "3690/3690 [==============================] - 60s - loss: 2.3982 - acc: 0.2905    \n",
      "Epoch 6/12\n",
      "3690/3690 [==============================] - 64s - loss: 2.1626 - acc: 0.3656    \n",
      "Epoch 7/12\n",
      "3690/3690 [==============================] - 67s - loss: 1.8965 - acc: 0.4390    \n",
      "Epoch 8/12\n",
      "3690/3690 [==============================] - 68s - loss: 1.6067 - acc: 0.5271    \n",
      "Epoch 9/12\n",
      "3690/3690 [==============================] - 68s - loss: 1.3233 - acc: 0.6076    \n",
      "Epoch 10/12\n",
      "3690/3690 [==============================] - 70s - loss: 1.0526 - acc: 0.6981    \n",
      "Epoch 11/12\n",
      "3690/3690 [==============================] - 67s - loss: 0.8265 - acc: 0.7623    \n",
      "Epoch 12/12\n",
      "3690/3690 [==============================] - 65s - loss: 0.6401 - acc: 0.8217    \n"
     ]
    },
    {
     "data": {
      "text/plain": [
       "<keras.callbacks.History at 0x146854610>"
      ]
     },
     "execution_count": 285,
     "metadata": {},
     "output_type": "execute_result"
    }
   ],
   "source": [
    "model.fit(X_train, Y_train, nb_epoch=nb_epoch, batch_size=batch_size)"
   ]
  },
  {
   "cell_type": "code",
   "execution_count": 289,
   "metadata": {
    "collapsed": false
   },
   "outputs": [
    {
     "name": "stdout",
     "output_type": "stream",
     "text": [
      "898/898 [==============================] - 7s     \n"
     ]
    },
    {
     "data": {
      "text/plain": [
       "[2.9733683415138907, 0.17483296213808464]"
      ]
     },
     "execution_count": 289,
     "metadata": {},
     "output_type": "execute_result"
    }
   ],
   "source": [
    "model.evaluate(X_test, Y_test)"
   ]
  },
  {
   "cell_type": "code",
   "execution_count": 291,
   "metadata": {
    "collapsed": false
   },
   "outputs": [],
   "source": [
    "model_json = model.to_json()\n",
    "open(\"../model/dog-discrimination/architecture.json\", \"w\").write(model_json)\n",
    "model.save_weights(\"../model/dog-discrimination/weights.h5\", overwrite=True)"
   ]
  },
  {
   "cell_type": "code",
   "execution_count": null,
   "metadata": {
    "collapsed": true
   },
   "outputs": [],
   "source": []
  }
 ],
 "metadata": {
  "kernelspec": {
   "display_name": "Python 2",
   "language": "python",
   "name": "python2"
  },
  "language_info": {
   "codemirror_mode": {
    "name": "ipython",
    "version": 2
   },
   "file_extension": ".py",
   "mimetype": "text/x-python",
   "name": "python",
   "nbconvert_exporter": "python",
   "pygments_lexer": "ipython2",
   "version": "2.7.11"
  }
 },
 "nbformat": 4,
 "nbformat_minor": 0
}
